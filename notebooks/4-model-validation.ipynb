{
 "cells": [
  {
   "cell_type": "markdown",
   "id": "ee9c16de",
   "metadata": {},
   "source": [
    "# Model validation\n",
    "\n",
    "Our goal is to validate the models selected in the model refinement and selection stage. Ultimately, we aim to choose a single final model."
   ]
  },
  {
   "cell_type": "markdown",
   "id": "514072ae",
   "metadata": {},
   "source": [
    "## Imports"
   ]
  },
  {
   "cell_type": "code",
   "execution_count": 1,
   "id": "522f22a5",
   "metadata": {},
   "outputs": [],
   "source": [
    "# Set module path\n",
    "import os\n",
    "import sys\n",
    "module_path = os.path.abspath(os.path.join('..'))\n",
    "if module_path not in sys.path:\n",
    "    sys.path.append(module_path)"
   ]
  },
  {
   "cell_type": "code",
   "execution_count": 2,
   "id": "17935709",
   "metadata": {},
   "outputs": [],
   "source": [
    "from pathlib import Path\n",
    "import numpy as np\n",
    "import pandas as pd\n",
    "import statsmodels.api as sm\n",
    "from patsy import dmatrices\n",
    "import matplotlib.pyplot as plt\n",
    "import seaborn as sns\n",
    "%matplotlib inline\n",
    "from math import floor\n",
    "\n",
    "import src.regression as rg\n",
    "import src.subset_selection as ss"
   ]
  },
  {
   "cell_type": "markdown",
   "id": "f0851d7d",
   "metadata": {},
   "source": [
    "## Data"
   ]
  },
  {
   "cell_type": "code",
   "execution_count": 3,
   "id": "754b144e",
   "metadata": {},
   "outputs": [
    {
     "data": {
      "text/html": [
       "<div>\n",
       "<style scoped>\n",
       "    .dataframe tbody tr th:only-of-type {\n",
       "        vertical-align: middle;\n",
       "    }\n",
       "\n",
       "    .dataframe tbody tr th {\n",
       "        vertical-align: top;\n",
       "    }\n",
       "\n",
       "    .dataframe thead th {\n",
       "        text-align: right;\n",
       "    }\n",
       "</style>\n",
       "<table border=\"1\" class=\"dataframe\">\n",
       "  <thead>\n",
       "    <tr style=\"text-align: right;\">\n",
       "      <th></th>\n",
       "      <th>students</th>\n",
       "      <th>teachers</th>\n",
       "      <th>calworks</th>\n",
       "      <th>lunch</th>\n",
       "      <th>computer</th>\n",
       "      <th>expenditure</th>\n",
       "      <th>income</th>\n",
       "      <th>english</th>\n",
       "      <th>math</th>\n",
       "    </tr>\n",
       "  </thead>\n",
       "  <tbody>\n",
       "    <tr>\n",
       "      <th>0</th>\n",
       "      <td>-2433.792857</td>\n",
       "      <td>-118.167377</td>\n",
       "      <td>-12.735842</td>\n",
       "      <td>-42.664437</td>\n",
       "      <td>-236.383333</td>\n",
       "      <td>1072.503592</td>\n",
       "      <td>7.373412</td>\n",
       "      <td>-15.768155</td>\n",
       "      <td>690.000000</td>\n",
       "    </tr>\n",
       "    <tr>\n",
       "      <th>1</th>\n",
       "      <td>-2388.792857</td>\n",
       "      <td>-117.917377</td>\n",
       "      <td>2.170659</td>\n",
       "      <td>3.211462</td>\n",
       "      <td>-202.383333</td>\n",
       "      <td>-213.026682</td>\n",
       "      <td>-5.492588</td>\n",
       "      <td>-11.184822</td>\n",
       "      <td>661.900024</td>\n",
       "    </tr>\n",
       "    <tr>\n",
       "      <th>2</th>\n",
       "      <td>-1078.792857</td>\n",
       "      <td>-46.167375</td>\n",
       "      <td>41.786257</td>\n",
       "      <td>31.617364</td>\n",
       "      <td>-134.383333</td>\n",
       "      <td>189.547049</td>\n",
       "      <td>-6.338588</td>\n",
       "      <td>14.231847</td>\n",
       "      <td>650.900024</td>\n",
       "    </tr>\n",
       "    <tr>\n",
       "      <th>3</th>\n",
       "      <td>-2385.792857</td>\n",
       "      <td>-115.067376</td>\n",
       "      <td>23.229357</td>\n",
       "      <td>32.343965</td>\n",
       "      <td>-218.383333</td>\n",
       "      <td>1789.423514</td>\n",
       "      <td>-6.338588</td>\n",
       "      <td>-15.768155</td>\n",
       "      <td>643.500000</td>\n",
       "    </tr>\n",
       "    <tr>\n",
       "      <th>4</th>\n",
       "      <td>-1293.792857</td>\n",
       "      <td>-57.567376</td>\n",
       "      <td>19.862559</td>\n",
       "      <td>33.721765</td>\n",
       "      <td>-132.383333</td>\n",
       "      <td>-76.419748</td>\n",
       "      <td>-6.236255</td>\n",
       "      <td>-1.910478</td>\n",
       "      <td>639.900024</td>\n",
       "    </tr>\n",
       "  </tbody>\n",
       "</table>\n",
       "</div>"
      ],
      "text/plain": [
       "      students    teachers   calworks      lunch    computer  expenditure  \\\n",
       "0 -2433.792857 -118.167377 -12.735842 -42.664437 -236.383333  1072.503592   \n",
       "1 -2388.792857 -117.917377   2.170659   3.211462 -202.383333  -213.026682   \n",
       "2 -1078.792857  -46.167375  41.786257  31.617364 -134.383333   189.547049   \n",
       "3 -2385.792857 -115.067376  23.229357  32.343965 -218.383333  1789.423514   \n",
       "4 -1293.792857  -57.567376  19.862559  33.721765 -132.383333   -76.419748   \n",
       "\n",
       "     income    english        math  \n",
       "0  7.373412 -15.768155  690.000000  \n",
       "1 -5.492588 -11.184822  661.900024  \n",
       "2 -6.338588  14.231847  650.900024  \n",
       "3 -6.338588 -15.768155  643.500000  \n",
       "4 -6.236255  -1.910478  639.900024  "
      ]
     },
     "execution_count": 3,
     "metadata": {},
     "output_type": "execute_result"
    }
   ],
   "source": [
    "data_dir = Path(\"../data/processed/\")\n",
    "data_file = data_dir / \"ca-schools.csv\"\n",
    "\n",
    "df = pd.read_csv(data_file, index_col=None)\n",
    "df.head()"
   ]
  },
  {
   "cell_type": "markdown",
   "id": "49110dc6",
   "metadata": {},
   "source": [
    "## Variables and models\n",
    "\n",
    "$Y$ - math\n",
    "\n",
    "$X_0$ - intercept\n",
    "\n",
    "$X_1$ - students\n",
    "\n",
    "$X_2$ - teachers\n",
    "\n",
    "$X_3$ - calworks\n",
    "\n",
    "$X_4$ - lunch\n",
    "\n",
    "$X_5$ - computer\n",
    "\n",
    "$X_6$ - expenditure\n",
    "\n",
    "$X_7$ - income\n",
    "\n",
    "$X_8$ - english\n",
    "\n",
    "**Model 1**: $Y = X_0 + X_3 + X_4 + X_5 + X_6 + X_7 + X_8 + X_3 X_7 + X_6 X_7 + \\epsilon$\n",
    "\n",
    "**Model 2**: $Y = X_0 + X_4 + X_7 + X_8 + \\epsilon$\n",
    "\n",
    "**Model 3**: $Y = X_0 + X_4 + X_7 + X_8 + X_4 X_7 + \\epsilon$"
   ]
  },
  {
   "cell_type": "code",
   "execution_count": 4,
   "id": "949234fe",
   "metadata": {},
   "outputs": [
    {
     "name": "stdout",
     "output_type": "stream",
     "text": [
      "                            OLS Regression Results                            \n",
      "==============================================================================\n",
      "Dep. Variable:                   math   R-squared:                       0.728\n",
      "Model:                            OLS   Adj. R-squared:                  0.725\n",
      "Method:                 Least Squares   F-statistic:                     221.7\n",
      "Date:                Thu, 28 Jul 2022   Prob (F-statistic):          1.18e-114\n",
      "Time:                        20:04:22   Log-Likelihood:                -1553.2\n",
      "No. Observations:                 420   AIC:                             3118.\n",
      "Df Residuals:                     414   BIC:                             3143.\n",
      "Df Model:                           5                                         \n",
      "Covariance Type:            nonrobust                                         \n",
      "===================================================================================\n",
      "                      coef    std err          t      P>|t|      [0.025      0.975]\n",
      "-----------------------------------------------------------------------------------\n",
      "Intercept         651.9168      0.682    955.365      0.000     650.575     653.258\n",
      "calworks           -0.2590      0.083     -3.127      0.002      -0.422      -0.096\n",
      "lunch              -0.3367      0.042     -8.050      0.000      -0.419      -0.254\n",
      "income              0.3827      0.160      2.395      0.017       0.069       0.697\n",
      "english            -0.1584      0.038     -4.158      0.000      -0.233      -0.084\n",
      "calworks:income    -0.0337      0.011     -2.940      0.003      -0.056      -0.011\n",
      "==============================================================================\n",
      "Omnibus:                        2.246   Durbin-Watson:                   1.644\n",
      "Prob(Omnibus):                  0.325   Jarque-Bera (JB):                2.062\n",
      "Skew:                           0.106   Prob(JB):                        0.357\n",
      "Kurtosis:                       3.270   Cond. No.                         131.\n",
      "==============================================================================\n",
      "\n",
      "Notes:\n",
      "[1] Standard Errors assume that the covariance matrix of the errors is correctly specified.\n"
     ]
    }
   ],
   "source": [
    "fm1 = \"\"\"math ~ calworks + lunch + income + english + calworks:income\"\"\"\n",
    "\n",
    "y1, X1 = dmatrices(fm1, data=df, return_type='dataframe')\n",
    "\n",
    "mod1 = sm.OLS(y1, X1)\n",
    "res1 = mod1.fit()\n",
    "\n",
    "print(res1.summary())\n",
    "\n",
    "\n",
    "from src.functions import savetable\n",
    "\n",
    "fig_dir = Path(\"../reports/figures/\")\n",
    "\n",
    "string = res1.summary().as_latex()\n",
    "txt_file = open(fig_dir / \"35-final-mod1-summary.tex\", 'w')\n",
    "txt_file.write(string)\n",
    "txt_file.close()\n"
   ]
  },
  {
   "cell_type": "code",
   "execution_count": 5,
   "id": "5ae6cb42",
   "metadata": {},
   "outputs": [
    {
     "name": "stdout",
     "output_type": "stream",
     "text": [
      "                            OLS Regression Results                            \n",
      "==============================================================================\n",
      "Dep. Variable:                   math   R-squared:                       0.721\n",
      "Model:                            OLS   Adj. R-squared:                  0.719\n",
      "Method:                 Least Squares   F-statistic:                     357.5\n",
      "Date:                Thu, 28 Jul 2022   Prob (F-statistic):          9.44e-115\n",
      "Time:                        20:04:22   Log-Likelihood:                -1558.9\n",
      "No. Observations:                 420   AIC:                             3126.\n",
      "Df Residuals:                     416   BIC:                             3142.\n",
      "Df Model:                           3                                         \n",
      "Covariance Type:            nonrobust                                         \n",
      "==============================================================================\n",
      "                 coef    std err          t      P>|t|      [0.025      0.975]\n",
      "------------------------------------------------------------------------------\n",
      "Intercept    653.3426      0.486   1345.704      0.000     652.388     654.297\n",
      "lunch         -0.3761      0.032    -11.782      0.000      -0.439      -0.313\n",
      "income         0.7495      0.095      7.859      0.000       0.562       0.937\n",
      "english       -0.1279      0.036     -3.525      0.000      -0.199      -0.057\n",
      "==============================================================================\n",
      "Omnibus:                        4.169   Durbin-Watson:                   1.613\n",
      "Prob(Omnibus):                  0.124   Jarque-Bera (JB):                4.388\n",
      "Skew:                           0.139   Prob(JB):                        0.111\n",
      "Kurtosis:                       3.417   Cond. No.                         30.6\n",
      "==============================================================================\n",
      "\n",
      "Notes:\n",
      "[1] Standard Errors assume that the covariance matrix of the errors is correctly specified.\n"
     ]
    }
   ],
   "source": [
    "fm2 = \"\"\"math ~ lunch + income + english\"\"\"\n",
    "\n",
    "y2, X2 = dmatrices(fm2, data=df, return_type='dataframe')\n",
    "\n",
    "mod2 = sm.OLS(y2, X2)\n",
    "res2 = mod2.fit()\n",
    "\n",
    "print(res2.summary())\n",
    "\n",
    "string = res2.summary().as_latex()\n",
    "txt_file = open(fig_dir / \"36-final-mod2-summary.tex\", 'w')\n",
    "txt_file.write(string)\n",
    "txt_file.close()"
   ]
  },
  {
   "cell_type": "code",
   "execution_count": 6,
   "id": "fdbb5219",
   "metadata": {},
   "outputs": [
    {
     "name": "stdout",
     "output_type": "stream",
     "text": [
      "                            OLS Regression Results                            \n",
      "==============================================================================\n",
      "Dep. Variable:                   math   R-squared:                       0.724\n",
      "Model:                            OLS   Adj. R-squared:                  0.722\n",
      "Method:                 Least Squares   F-statistic:                     272.5\n",
      "Date:                Thu, 28 Jul 2022   Prob (F-statistic):          1.25e-114\n",
      "Time:                        20:04:22   Log-Likelihood:                -1556.1\n",
      "No. Observations:                 420   AIC:                             3122.\n",
      "Df Residuals:                     415   BIC:                             3142.\n",
      "Df Model:                           4                                         \n",
      "Covariance Type:            nonrobust                                         \n",
      "================================================================================\n",
      "                   coef    std err          t      P>|t|      [0.025      0.975]\n",
      "--------------------------------------------------------------------------------\n",
      "Intercept      652.3207      0.649   1004.445      0.000     651.044     653.597\n",
      "lunch           -0.4156      0.036    -11.572      0.000      -0.486      -0.345\n",
      "income           0.4706      0.152      3.100      0.002       0.172       0.769\n",
      "lunch:income    -0.0076      0.003     -2.353      0.019      -0.014      -0.001\n",
      "english         -0.1301      0.036     -3.605      0.000      -0.201      -0.059\n",
      "==============================================================================\n",
      "Omnibus:                        3.707   Durbin-Watson:                   1.635\n",
      "Prob(Omnibus):                  0.157   Jarque-Bera (JB):                4.001\n",
      "Skew:                           0.104   Prob(JB):                        0.135\n",
      "Kurtosis:                       3.430   Cond. No.                         380.\n",
      "==============================================================================\n",
      "\n",
      "Notes:\n",
      "[1] Standard Errors assume that the covariance matrix of the errors is correctly specified.\n"
     ]
    }
   ],
   "source": [
    "fm3 = \"\"\"math ~ lunch*income + english\"\"\"\n",
    "\n",
    "y3, X3 = dmatrices(fm3, data=df, return_type='dataframe')\n",
    "\n",
    "mod3 = sm.OLS(y3, X3)\n",
    "res3 = mod3.fit()\n",
    "\n",
    "print(res3.summary())\n",
    "\n",
    "string = res3.summary().as_latex()\n",
    "txt_file = open(fig_dir / \"37-final-mod3-summary.tex\", 'w')\n",
    "txt_file.write(string)\n",
    "txt_file.close()"
   ]
  },
  {
   "cell_type": "markdown",
   "id": "4bee3b96",
   "metadata": {},
   "source": [
    "## Internal validation"
   ]
  },
  {
   "cell_type": "code",
   "execution_count": 7,
   "id": "ae644467",
   "metadata": {},
   "outputs": [
    {
     "name": "stderr",
     "output_type": "stream",
     "text": [
      "C:\\Users\\gfitz\\OneDrive\\Desktop\\projects\\ca-schools\\src\\functions.py:7: FutureWarning: In future versions `DataFrame.to_latex` is expected to utilise the base implementation of `Styler.to_latex` for formatting and rendering. The arguments signature may therefore change. It is recommended instead to use `DataFrame.style.to_latex` which also contains additional functionality.\n",
      "  string = table.to_latex()\n"
     ]
    }
   ],
   "source": [
    "table = pd.DataFrame({\"Model 1\": [rg.sse(X1.values, y1.values), rg.press(X1.values, y1.values)],\n",
    "                      \"Model 2\": [rg.sse(X2.values, y2.values), rg.press(X2.values, y2.values)],\n",
    "                      \"Model 3\": [rg.sse(X3.values, y3.values), rg.press(X3.values, y3.values)]},\n",
    "                     index=['SSE', 'PRESS'])\n",
    "\n",
    "savetable(table, \"38-internal-validation-table.tex\")"
   ]
  },
  {
   "cell_type": "markdown",
   "id": "74d8d338",
   "metadata": {},
   "source": [
    "Each of the models have prediction error sum of squares reasonably close to SSE, which indicates that MSE is a good indicator of their predictive capabilities. "
   ]
  },
  {
   "cell_type": "markdown",
   "id": "30c9df26",
   "metadata": {},
   "source": [
    "## External validation\n",
    "\n",
    "We will now split the data into a training and validation set using a 50-50 split."
   ]
  },
  {
   "cell_type": "code",
   "execution_count": 8,
   "id": "d2b0f38f",
   "metadata": {},
   "outputs": [],
   "source": [
    "from sklearn.model_selection import train_test_split\n",
    "\n",
    "train_df, test_df = train_test_split(df, test_size=0.5, random_state=40, shuffle=True)"
   ]
  },
  {
   "cell_type": "code",
   "execution_count": 9,
   "id": "1cb7fb42",
   "metadata": {},
   "outputs": [
    {
     "data": {
      "text/html": [
       "<div>\n",
       "<style scoped>\n",
       "    .dataframe tbody tr th:only-of-type {\n",
       "        vertical-align: middle;\n",
       "    }\n",
       "\n",
       "    .dataframe tbody tr th {\n",
       "        vertical-align: top;\n",
       "    }\n",
       "\n",
       "    .dataframe thead th {\n",
       "        text-align: right;\n",
       "    }\n",
       "</style>\n",
       "<table border=\"1\" class=\"dataframe\">\n",
       "  <thead>\n",
       "    <tr style=\"text-align: right;\">\n",
       "      <th></th>\n",
       "      <th>students</th>\n",
       "      <th>teachers</th>\n",
       "      <th>calworks</th>\n",
       "      <th>lunch</th>\n",
       "      <th>computer</th>\n",
       "      <th>expenditure</th>\n",
       "      <th>income</th>\n",
       "      <th>english</th>\n",
       "      <th>math</th>\n",
       "    </tr>\n",
       "  </thead>\n",
       "  <tbody>\n",
       "    <tr>\n",
       "      <th>221</th>\n",
       "      <td>3744.207143</td>\n",
       "      <td>200.052619</td>\n",
       "      <td>-0.567541</td>\n",
       "      <td>-7.815237</td>\n",
       "      <td>320.616667</td>\n",
       "      <td>-578.660959</td>\n",
       "      <td>-0.718921</td>\n",
       "      <td>-9.507368</td>\n",
       "      <td>653.099976</td>\n",
       "    </tr>\n",
       "    <tr>\n",
       "      <th>50</th>\n",
       "      <td>6306.207143</td>\n",
       "      <td>315.432624</td>\n",
       "      <td>23.699057</td>\n",
       "      <td>34.806764</td>\n",
       "      <td>482.616667</td>\n",
       "      <td>-295.715158</td>\n",
       "      <td>-1.254588</td>\n",
       "      <td>28.316905</td>\n",
       "      <td>633.700012</td>\n",
       "    </tr>\n",
       "    <tr>\n",
       "      <th>35</th>\n",
       "      <td>-361.792857</td>\n",
       "      <td>-25.387376</td>\n",
       "      <td>5.905657</td>\n",
       "      <td>39.728563</td>\n",
       "      <td>-126.383333</td>\n",
       "      <td>-40.215647</td>\n",
       "      <td>-3.984088</td>\n",
       "      <td>19.697215</td>\n",
       "      <td>628.200012</td>\n",
       "    </tr>\n",
       "    <tr>\n",
       "      <th>212</th>\n",
       "      <td>-2471.792857</td>\n",
       "      <td>-119.817376</td>\n",
       "      <td>-11.347342</td>\n",
       "      <td>-34.578637</td>\n",
       "      <td>-284.383333</td>\n",
       "      <td>-427.545236</td>\n",
       "      <td>-1.686588</td>\n",
       "      <td>-6.214015</td>\n",
       "      <td>655.500000</td>\n",
       "    </tr>\n",
       "    <tr>\n",
       "      <th>280</th>\n",
       "      <td>-1806.792857</td>\n",
       "      <td>-82.417375</td>\n",
       "      <td>-5.172242</td>\n",
       "      <td>-19.099738</td>\n",
       "      <td>-198.383333</td>\n",
       "      <td>472.217459</td>\n",
       "      <td>-1.153588</td>\n",
       "      <td>-14.916574</td>\n",
       "      <td>657.500000</td>\n",
       "    </tr>\n",
       "  </tbody>\n",
       "</table>\n",
       "</div>"
      ],
      "text/plain": [
       "        students    teachers   calworks      lunch    computer  expenditure  \\\n",
       "221  3744.207143  200.052619  -0.567541  -7.815237  320.616667  -578.660959   \n",
       "50   6306.207143  315.432624  23.699057  34.806764  482.616667  -295.715158   \n",
       "35   -361.792857  -25.387376   5.905657  39.728563 -126.383333   -40.215647   \n",
       "212 -2471.792857 -119.817376 -11.347342 -34.578637 -284.383333  -427.545236   \n",
       "280 -1806.792857  -82.417375  -5.172242 -19.099738 -198.383333   472.217459   \n",
       "\n",
       "       income    english        math  \n",
       "221 -0.718921  -9.507368  653.099976  \n",
       "50  -1.254588  28.316905  633.700012  \n",
       "35  -3.984088  19.697215  628.200012  \n",
       "212 -1.686588  -6.214015  655.500000  \n",
       "280 -1.153588 -14.916574  657.500000  "
      ]
     },
     "execution_count": 9,
     "metadata": {},
     "output_type": "execute_result"
    }
   ],
   "source": [
    "train_df.head()"
   ]
  },
  {
   "cell_type": "code",
   "execution_count": 10,
   "id": "2e20b38e",
   "metadata": {
    "scrolled": true
   },
   "outputs": [
    {
     "data": {
      "text/html": [
       "<div>\n",
       "<style scoped>\n",
       "    .dataframe tbody tr th:only-of-type {\n",
       "        vertical-align: middle;\n",
       "    }\n",
       "\n",
       "    .dataframe tbody tr th {\n",
       "        vertical-align: top;\n",
       "    }\n",
       "\n",
       "    .dataframe thead th {\n",
       "        text-align: right;\n",
       "    }\n",
       "</style>\n",
       "<table border=\"1\" class=\"dataframe\">\n",
       "  <thead>\n",
       "    <tr style=\"text-align: right;\">\n",
       "      <th></th>\n",
       "      <th>students</th>\n",
       "      <th>teachers</th>\n",
       "      <th>calworks</th>\n",
       "      <th>lunch</th>\n",
       "      <th>computer</th>\n",
       "      <th>expenditure</th>\n",
       "      <th>income</th>\n",
       "      <th>english</th>\n",
       "      <th>math</th>\n",
       "    </tr>\n",
       "  </thead>\n",
       "  <tbody>\n",
       "    <tr>\n",
       "      <th>71</th>\n",
       "      <td>358.207143</td>\n",
       "      <td>12.142631</td>\n",
       "      <td>8.012759</td>\n",
       "      <td>23.691164</td>\n",
       "      <td>-30.383333</td>\n",
       "      <td>-485.741525</td>\n",
       "      <td>-1.585989</td>\n",
       "      <td>-1.338962</td>\n",
       "      <td>631.099976</td>\n",
       "    </tr>\n",
       "    <tr>\n",
       "      <th>142</th>\n",
       "      <td>5787.207143</td>\n",
       "      <td>262.352637</td>\n",
       "      <td>-0.847041</td>\n",
       "      <td>27.206865</td>\n",
       "      <td>1029.616667</td>\n",
       "      <td>-246.496408</td>\n",
       "      <td>-2.646688</td>\n",
       "      <td>27.981845</td>\n",
       "      <td>647.299988</td>\n",
       "    </tr>\n",
       "    <tr>\n",
       "      <th>139</th>\n",
       "      <td>7708.207143</td>\n",
       "      <td>410.982612</td>\n",
       "      <td>23.980857</td>\n",
       "      <td>13.840162</td>\n",
       "      <td>964.616667</td>\n",
       "      <td>143.789725</td>\n",
       "      <td>-2.973588</td>\n",
       "      <td>-3.414475</td>\n",
       "      <td>643.099976</td>\n",
       "    </tr>\n",
       "    <tr>\n",
       "      <th>102</th>\n",
       "      <td>-2018.792857</td>\n",
       "      <td>-98.087377</td>\n",
       "      <td>-4.721442</td>\n",
       "      <td>11.360364</td>\n",
       "      <td>-159.383333</td>\n",
       "      <td>-608.363596</td>\n",
       "      <td>-4.033588</td>\n",
       "      <td>-12.325532</td>\n",
       "      <td>638.200012</td>\n",
       "    </tr>\n",
       "    <tr>\n",
       "      <th>228</th>\n",
       "      <td>-2483.792857</td>\n",
       "      <td>-118.857376</td>\n",
       "      <td>-4.970142</td>\n",
       "      <td>-24.705237</td>\n",
       "      <td>-283.383333</td>\n",
       "      <td>323.378592</td>\n",
       "      <td>-1.604588</td>\n",
       "      <td>-15.768155</td>\n",
       "      <td>655.200012</td>\n",
       "    </tr>\n",
       "  </tbody>\n",
       "</table>\n",
       "</div>"
      ],
      "text/plain": [
       "        students    teachers   calworks      lunch     computer  expenditure  \\\n",
       "71    358.207143   12.142631   8.012759  23.691164   -30.383333  -485.741525   \n",
       "142  5787.207143  262.352637  -0.847041  27.206865  1029.616667  -246.496408   \n",
       "139  7708.207143  410.982612  23.980857  13.840162   964.616667   143.789725   \n",
       "102 -2018.792857  -98.087377  -4.721442  11.360364  -159.383333  -608.363596   \n",
       "228 -2483.792857 -118.857376  -4.970142 -24.705237  -283.383333   323.378592   \n",
       "\n",
       "       income    english        math  \n",
       "71  -1.585989  -1.338962  631.099976  \n",
       "142 -2.646688  27.981845  647.299988  \n",
       "139 -2.973588  -3.414475  643.099976  \n",
       "102 -4.033588 -12.325532  638.200012  \n",
       "228 -1.604588 -15.768155  655.200012  "
      ]
     },
     "execution_count": 10,
     "metadata": {},
     "output_type": "execute_result"
    }
   ],
   "source": [
    "test_df.head()"
   ]
  },
  {
   "cell_type": "markdown",
   "id": "c91c9cb0",
   "metadata": {},
   "source": [
    "### Model 1"
   ]
  },
  {
   "cell_type": "code",
   "execution_count": 11,
   "id": "42a9c6a7",
   "metadata": {},
   "outputs": [],
   "source": [
    "train_y1, train_X1 = dmatrices(fm1, data=train_df, return_type='dataframe')\n",
    "\n",
    "train_mod1 = sm.OLS(train_y1, train_X1)\n",
    "train_res1 = train_mod1.fit()"
   ]
  },
  {
   "cell_type": "code",
   "execution_count": 12,
   "id": "9ece1fec",
   "metadata": {
    "scrolled": false
   },
   "outputs": [],
   "source": [
    "test_y1, test_X1 = dmatrices(fm1, data=test_df, return_type='dataframe')\n",
    "\n",
    "test_mod1 = sm.OLS(test_y1, test_X1)\n",
    "test_res1 = test_mod1.fit()"
   ]
  },
  {
   "cell_type": "code",
   "execution_count": 13,
   "id": "9a2d631b",
   "metadata": {},
   "outputs": [
    {
     "name": "stderr",
     "output_type": "stream",
     "text": [
      "C:\\Users\\gfitz\\OneDrive\\Desktop\\projects\\ca-schools\\src\\functions.py:7: FutureWarning: In future versions `DataFrame.to_latex` is expected to utilise the base implementation of `Styler.to_latex` for formatting and rendering. The arguments signature may therefore change. It is recommended instead to use `DataFrame.style.to_latex` which also contains additional functionality.\n",
      "  string = table.to_latex()\n"
     ]
    },
    {
     "data": {
      "text/html": [
       "<div>\n",
       "<style scoped>\n",
       "    .dataframe tbody tr th:only-of-type {\n",
       "        vertical-align: middle;\n",
       "    }\n",
       "\n",
       "    .dataframe tbody tr th {\n",
       "        vertical-align: top;\n",
       "    }\n",
       "\n",
       "    .dataframe thead th {\n",
       "        text-align: right;\n",
       "    }\n",
       "</style>\n",
       "<table border=\"1\" class=\"dataframe\">\n",
       "  <thead>\n",
       "    <tr style=\"text-align: right;\">\n",
       "      <th></th>\n",
       "      <th>train_mod1_coef</th>\n",
       "      <th>test_mod1_coef</th>\n",
       "      <th>train_mod1_std_err</th>\n",
       "      <th>test_mod1_std_err</th>\n",
       "    </tr>\n",
       "  </thead>\n",
       "  <tbody>\n",
       "    <tr>\n",
       "      <th>Intercept</th>\n",
       "      <td>651.891579</td>\n",
       "      <td>651.542605</td>\n",
       "      <td>0.960207</td>\n",
       "      <td>0.982492</td>\n",
       "    </tr>\n",
       "    <tr>\n",
       "      <th>calworks</th>\n",
       "      <td>-0.188861</td>\n",
       "      <td>-0.356300</td>\n",
       "      <td>0.111898</td>\n",
       "      <td>0.125143</td>\n",
       "    </tr>\n",
       "    <tr>\n",
       "      <th>lunch</th>\n",
       "      <td>-0.380887</td>\n",
       "      <td>-0.277864</td>\n",
       "      <td>0.059565</td>\n",
       "      <td>0.060623</td>\n",
       "    </tr>\n",
       "    <tr>\n",
       "      <th>income</th>\n",
       "      <td>0.152318</td>\n",
       "      <td>0.616919</td>\n",
       "      <td>0.230191</td>\n",
       "      <td>0.226573</td>\n",
       "    </tr>\n",
       "    <tr>\n",
       "      <th>english</th>\n",
       "      <td>-0.158103</td>\n",
       "      <td>-0.181639</td>\n",
       "      <td>0.053425</td>\n",
       "      <td>0.054990</td>\n",
       "    </tr>\n",
       "    <tr>\n",
       "      <th>calworks:income</th>\n",
       "      <td>-0.040440</td>\n",
       "      <td>-0.039106</td>\n",
       "      <td>0.016160</td>\n",
       "      <td>0.016885</td>\n",
       "    </tr>\n",
       "  </tbody>\n",
       "</table>\n",
       "</div>"
      ],
      "text/plain": [
       "                 train_mod1_coef  test_mod1_coef  train_mod1_std_err  \\\n",
       "Intercept             651.891579      651.542605            0.960207   \n",
       "calworks               -0.188861       -0.356300            0.111898   \n",
       "lunch                  -0.380887       -0.277864            0.059565   \n",
       "income                  0.152318        0.616919            0.230191   \n",
       "english                -0.158103       -0.181639            0.053425   \n",
       "calworks:income        -0.040440       -0.039106            0.016160   \n",
       "\n",
       "                 test_mod1_std_err  \n",
       "Intercept                 0.982492  \n",
       "calworks                  0.125143  \n",
       "lunch                     0.060623  \n",
       "income                    0.226573  \n",
       "english                   0.054990  \n",
       "calworks:income           0.016885  "
      ]
     },
     "execution_count": 13,
     "metadata": {},
     "output_type": "execute_result"
    }
   ],
   "source": [
    "table = pd.DataFrame({'train_mod1_coef': train_res1.params,\n",
    "                      'test_mod1_coef': test_res1.params,\n",
    "                      'train_mod1_std_err': train_res1.bse,\n",
    "                      'test_mod1_std_err': test_res1.bse})\n",
    "\n",
    "savetable(table, \"39-train-test-estimates-mod1.tex\")\n",
    "\n",
    "table"
   ]
  },
  {
   "cell_type": "markdown",
   "id": "3e9d9e81",
   "metadata": {},
   "source": [
    "The standard error estimates are in very close agreement. The regression parameters are all within two standard deviations of each other, which is reasonably close.\n",
    "\n",
    "We will now look at the mean squared prediction error (MSPR) for when the trained model is used to predict the test set. This will help us calibrate the predictive power of Model 1."
   ]
  },
  {
   "cell_type": "code",
   "execution_count": 14,
   "id": "c98c6215",
   "metadata": {},
   "outputs": [
    {
     "name": "stdout",
     "output_type": "stream",
     "text": [
      "Model 1 MSPR:  103.4783893615233\n",
      "Model 1 MSE:  93.21804607828616\n"
     ]
    }
   ],
   "source": [
    "pred_errors = test_y1.values - train_res1.predict(test_X1).values.reshape(210, 1)\n",
    "\n",
    "print(\"Model 1 MSPR: \", (np.matmul(pred_errors.T, pred_errors) / test_res1.nobs)[0,0])\n",
    "print(\"Model 1 MSE: \", train_res1.mse_resid)"
   ]
  },
  {
   "cell_type": "markdown",
   "id": "baf98412",
   "metadata": {},
   "source": [
    "The MSPR for Model 1 is moderately close to MSE, which suggests that MSE is a reasonably valid indicator of the models predictive power."
   ]
  },
  {
   "cell_type": "markdown",
   "id": "f838aae9",
   "metadata": {},
   "source": [
    "### Model 2"
   ]
  },
  {
   "cell_type": "code",
   "execution_count": 15,
   "id": "06b97bf5",
   "metadata": {
    "scrolled": false
   },
   "outputs": [],
   "source": [
    "train_y2, train_X2 = dmatrices(fm2, data=train_df, return_type='dataframe')\n",
    "\n",
    "train_mod2 = sm.OLS(train_y2, train_X2)\n",
    "train_res2 = train_mod2.fit()"
   ]
  },
  {
   "cell_type": "code",
   "execution_count": 16,
   "id": "b1bf5bc1",
   "metadata": {
    "scrolled": false
   },
   "outputs": [],
   "source": [
    "test_y2, test_X2 = dmatrices(fm2, data=test_df, return_type='dataframe')\n",
    "\n",
    "test_mod2 = sm.OLS(test_y2, test_X2)\n",
    "test_res2 = test_mod2.fit()"
   ]
  },
  {
   "cell_type": "code",
   "execution_count": 17,
   "id": "82864219",
   "metadata": {},
   "outputs": [
    {
     "name": "stderr",
     "output_type": "stream",
     "text": [
      "C:\\Users\\gfitz\\OneDrive\\Desktop\\projects\\ca-schools\\src\\functions.py:7: FutureWarning: In future versions `DataFrame.to_latex` is expected to utilise the base implementation of `Styler.to_latex` for formatting and rendering. The arguments signature may therefore change. It is recommended instead to use `DataFrame.style.to_latex` which also contains additional functionality.\n",
      "  string = table.to_latex()\n"
     ]
    },
    {
     "data": {
      "text/html": [
       "<div>\n",
       "<style scoped>\n",
       "    .dataframe tbody tr th:only-of-type {\n",
       "        vertical-align: middle;\n",
       "    }\n",
       "\n",
       "    .dataframe tbody tr th {\n",
       "        vertical-align: top;\n",
       "    }\n",
       "\n",
       "    .dataframe thead th {\n",
       "        text-align: right;\n",
       "    }\n",
       "</style>\n",
       "<table border=\"1\" class=\"dataframe\">\n",
       "  <thead>\n",
       "    <tr style=\"text-align: right;\">\n",
       "      <th></th>\n",
       "      <th>train_mod2_coef</th>\n",
       "      <th>test_mod2_coef</th>\n",
       "      <th>train_mod2_std_err</th>\n",
       "      <th>test_mod2_std_err</th>\n",
       "    </tr>\n",
       "  </thead>\n",
       "  <tbody>\n",
       "    <tr>\n",
       "      <th>Intercept</th>\n",
       "      <td>653.620324</td>\n",
       "      <td>653.171653</td>\n",
       "      <td>0.674512</td>\n",
       "      <td>0.699460</td>\n",
       "    </tr>\n",
       "    <tr>\n",
       "      <th>lunch</th>\n",
       "      <td>-0.369942</td>\n",
       "      <td>-0.361408</td>\n",
       "      <td>0.045050</td>\n",
       "      <td>0.046174</td>\n",
       "    </tr>\n",
       "    <tr>\n",
       "      <th>income</th>\n",
       "      <td>0.642720</td>\n",
       "      <td>0.972691</td>\n",
       "      <td>0.118377</td>\n",
       "      <td>0.161748</td>\n",
       "    </tr>\n",
       "    <tr>\n",
       "      <th>english</th>\n",
       "      <td>-0.145489</td>\n",
       "      <td>-0.123443</td>\n",
       "      <td>0.052549</td>\n",
       "      <td>0.050404</td>\n",
       "    </tr>\n",
       "  </tbody>\n",
       "</table>\n",
       "</div>"
      ],
      "text/plain": [
       "           train_mod2_coef  test_mod2_coef  train_mod2_std_err  \\\n",
       "Intercept       653.620324      653.171653            0.674512   \n",
       "lunch            -0.369942       -0.361408            0.045050   \n",
       "income            0.642720        0.972691            0.118377   \n",
       "english          -0.145489       -0.123443            0.052549   \n",
       "\n",
       "           test_mod2_std_err  \n",
       "Intercept           0.699460  \n",
       "lunch               0.046174  \n",
       "income              0.161748  \n",
       "english             0.050404  "
      ]
     },
     "execution_count": 17,
     "metadata": {},
     "output_type": "execute_result"
    }
   ],
   "source": [
    "table = pd.DataFrame({'train_mod2_coef': train_res2.params,\n",
    "                      'test_mod2_coef': test_res2.params,\n",
    "                      'train_mod2_std_err': train_res2.bse,\n",
    "                      'test_mod2_std_err': test_res2.bse})\n",
    "\n",
    "savetable(table, \"40-train-test-estimates-mod2.tex\")\n",
    "\n",
    "table"
   ]
  },
  {
   "cell_type": "markdown",
   "id": "fe46e58e",
   "metadata": {},
   "source": [
    "The regression estimates and standard error estimates are in very close agreement except for the parameter lunch, which is still not unreasonably close. This suggests reasonable stability of the regression estimates.\n",
    "\n",
    "We will now look at the mean squared prediction error (MSPR) for when the trained model is used to predict the test set."
   ]
  },
  {
   "cell_type": "code",
   "execution_count": 18,
   "id": "aa504d55",
   "metadata": {},
   "outputs": [
    {
     "name": "stdout",
     "output_type": "stream",
     "text": [
      "Model 2 MSPR:  104.17321282808439\n",
      "Model 2 MSE:  95.26577780062405\n"
     ]
    }
   ],
   "source": [
    "pred_errors = test_y2.values - train_res2.predict(test_X2).values.reshape(210, 1)\n",
    "\n",
    "print(\"Model 2 MSPR: \", (np.matmul(pred_errors.T, pred_errors) / test_res2.nobs)[0,0])\n",
    "print(\"Model 2 MSE: \", train_res2.mse_resid)"
   ]
  },
  {
   "cell_type": "markdown",
   "id": "ea27c53d",
   "metadata": {},
   "source": [
    "The MSPR for Model 2 is moderately close to MSE, which suggests that MSE is a reasonably valid indicator of the model's predictive power."
   ]
  },
  {
   "cell_type": "markdown",
   "id": "68d366ae",
   "metadata": {},
   "source": [
    "### Model 3"
   ]
  },
  {
   "cell_type": "code",
   "execution_count": 19,
   "id": "ce167fb3",
   "metadata": {},
   "outputs": [],
   "source": [
    "train_y3, train_X3 = dmatrices(fm3, data=train_df, return_type='dataframe')\n",
    "\n",
    "train_mod3 = sm.OLS(train_y3, train_X3)\n",
    "train_res3 = train_mod3.fit()"
   ]
  },
  {
   "cell_type": "code",
   "execution_count": 20,
   "id": "303652d7",
   "metadata": {
    "scrolled": false
   },
   "outputs": [],
   "source": [
    "test_y3, test_X3 = dmatrices(fm3, data=test_df, return_type='dataframe')\n",
    "\n",
    "test_mod3 = sm.OLS(test_y3, test_X3)\n",
    "test_res3 = test_mod3.fit()"
   ]
  },
  {
   "cell_type": "code",
   "execution_count": 21,
   "id": "fb185d67",
   "metadata": {},
   "outputs": [
    {
     "name": "stderr",
     "output_type": "stream",
     "text": [
      "C:\\Users\\gfitz\\OneDrive\\Desktop\\projects\\ca-schools\\src\\functions.py:7: FutureWarning: In future versions `DataFrame.to_latex` is expected to utilise the base implementation of `Styler.to_latex` for formatting and rendering. The arguments signature may therefore change. It is recommended instead to use `DataFrame.style.to_latex` which also contains additional functionality.\n",
      "  string = table.to_latex()\n"
     ]
    },
    {
     "data": {
      "text/html": [
       "<div>\n",
       "<style scoped>\n",
       "    .dataframe tbody tr th:only-of-type {\n",
       "        vertical-align: middle;\n",
       "    }\n",
       "\n",
       "    .dataframe tbody tr th {\n",
       "        vertical-align: top;\n",
       "    }\n",
       "\n",
       "    .dataframe thead th {\n",
       "        text-align: right;\n",
       "    }\n",
       "</style>\n",
       "<table border=\"1\" class=\"dataframe\">\n",
       "  <thead>\n",
       "    <tr style=\"text-align: right;\">\n",
       "      <th></th>\n",
       "      <th>train_mod1_coef</th>\n",
       "      <th>test_mod1_coef</th>\n",
       "      <th>train_mod1_std_err</th>\n",
       "      <th>test_mod1_std_err</th>\n",
       "    </tr>\n",
       "  </thead>\n",
       "  <tbody>\n",
       "    <tr>\n",
       "      <th>Intercept</th>\n",
       "      <td>652.376792</td>\n",
       "      <td>652.117887</td>\n",
       "      <td>0.905688</td>\n",
       "      <td>0.936975</td>\n",
       "    </tr>\n",
       "    <tr>\n",
       "      <th>lunch</th>\n",
       "      <td>-0.423147</td>\n",
       "      <td>-0.395220</td>\n",
       "      <td>0.051771</td>\n",
       "      <td>0.050178</td>\n",
       "    </tr>\n",
       "    <tr>\n",
       "      <th>income</th>\n",
       "      <td>0.288637</td>\n",
       "      <td>0.718136</td>\n",
       "      <td>0.209704</td>\n",
       "      <td>0.221054</td>\n",
       "    </tr>\n",
       "    <tr>\n",
       "      <th>lunch:income</th>\n",
       "      <td>-0.008909</td>\n",
       "      <td>-0.008309</td>\n",
       "      <td>0.004371</td>\n",
       "      <td>0.004943</td>\n",
       "    </tr>\n",
       "    <tr>\n",
       "      <th>english</th>\n",
       "      <td>-0.142309</td>\n",
       "      <td>-0.131896</td>\n",
       "      <td>0.052175</td>\n",
       "      <td>0.050434</td>\n",
       "    </tr>\n",
       "  </tbody>\n",
       "</table>\n",
       "</div>"
      ],
      "text/plain": [
       "              train_mod1_coef  test_mod1_coef  train_mod1_std_err  \\\n",
       "Intercept          652.376792      652.117887            0.905688   \n",
       "lunch               -0.423147       -0.395220            0.051771   \n",
       "income               0.288637        0.718136            0.209704   \n",
       "lunch:income        -0.008909       -0.008309            0.004371   \n",
       "english             -0.142309       -0.131896            0.052175   \n",
       "\n",
       "              test_mod1_std_err  \n",
       "Intercept              0.936975  \n",
       "lunch                  0.050178  \n",
       "income                 0.221054  \n",
       "lunch:income           0.004943  \n",
       "english                0.050434  "
      ]
     },
     "execution_count": 21,
     "metadata": {},
     "output_type": "execute_result"
    }
   ],
   "source": [
    "table = pd.DataFrame({'train_mod1_coef': train_res3.params,\n",
    "                      'test_mod1_coef': test_res3.params,\n",
    "                      'train_mod1_std_err': train_res3.bse,\n",
    "                      'test_mod1_std_err': test_res3.bse})\n",
    "\n",
    "savetable(table, \"41-train-test-estimates-mod3.tex\")\n",
    "\n",
    "table"
   ]
  },
  {
   "cell_type": "markdown",
   "id": "57122b8c",
   "metadata": {},
   "source": [
    "The parameter and standard error estimates are in close agreement except for lunch, which is still not unreasonably close.\n",
    "\n",
    "We will now look at the mean squared prediction error (MSPR) for when the trained model is used to predict the test set."
   ]
  },
  {
   "cell_type": "code",
   "execution_count": 22,
   "id": "f8ad9fe6",
   "metadata": {},
   "outputs": [
    {
     "name": "stdout",
     "output_type": "stream",
     "text": [
      "Model 3 MSPR:  103.80235333205607\n",
      "Model 3 MSE:  93.82872536576107\n"
     ]
    }
   ],
   "source": [
    "pred_errors = test_y3.values - train_res3.predict(test_X3).values.reshape(210, 1)\n",
    "\n",
    "print(\"Model 3 MSPR: \", (np.matmul(pred_errors.T, pred_errors) / test_res3.nobs)[0,0])\n",
    "print(\"Model 3 MSE: \", train_res3.mse_resid)"
   ]
  },
  {
   "cell_type": "markdown",
   "id": "ad515775",
   "metadata": {},
   "source": [
    "The MSPR for Model 3 is moderately close to MSE, which suggests that MSE is a reasonably valid indicator of the models predictive power."
   ]
  },
  {
   "cell_type": "markdown",
   "id": "5f516e1d",
   "metadata": {},
   "source": [
    "## Final model: $Y = X_0 + X_4 + X_7 + X_8 + \\epsilon$\n",
    "\n",
    "We recommend Model 2 for the final model because it best fulfills the criteria of an explanatory model. Its regression estimates, for income in particular, are more stable. Althought it has slightly less predictive capabilities, the difference is not substantial and it achieves this with the fewest parameters, which means it is the most interpretable.\n",
    "\n",
    "Our model suggests that the variables that best explain differences in 5th grade math performance are all student demographic background variables: lunch, income, and english. These three variables explain 72% of the variation in standardized math scores. A 10 percentage point increase in the number of students on reduced-price lunch tends to be associated with a 3.8 point decrease on the average math score in the district. A 10,000 increase in the average family income for a district is associated with a 7.5 point increase on the average math score in the district. And a 10% percentage point increase in the number of English language learners is associated with a 1.3 point decrease on the average math score in the district."
   ]
  },
  {
   "cell_type": "code",
   "execution_count": 23,
   "id": "51d16eb7",
   "metadata": {},
   "outputs": [
    {
     "name": "stdout",
     "output_type": "stream",
     "text": [
      "                            OLS Regression Results                            \n",
      "==============================================================================\n",
      "Dep. Variable:                   math   R-squared:                       0.721\n",
      "Model:                            OLS   Adj. R-squared:                  0.719\n",
      "Method:                 Least Squares   F-statistic:                     357.5\n",
      "Date:                Thu, 28 Jul 2022   Prob (F-statistic):          9.44e-115\n",
      "Time:                        20:04:23   Log-Likelihood:                -1558.9\n",
      "No. Observations:                 420   AIC:                             3126.\n",
      "Df Residuals:                     416   BIC:                             3142.\n",
      "Df Model:                           3                                         \n",
      "Covariance Type:            nonrobust                                         \n",
      "==============================================================================\n",
      "                 coef    std err          t      P>|t|      [0.025      0.975]\n",
      "------------------------------------------------------------------------------\n",
      "Intercept    653.3426      0.486   1345.704      0.000     652.388     654.297\n",
      "lunch         -0.3761      0.032    -11.782      0.000      -0.439      -0.313\n",
      "income         0.7495      0.095      7.859      0.000       0.562       0.937\n",
      "english       -0.1279      0.036     -3.525      0.000      -0.199      -0.057\n",
      "==============================================================================\n",
      "Omnibus:                        4.169   Durbin-Watson:                   1.613\n",
      "Prob(Omnibus):                  0.124   Jarque-Bera (JB):                4.388\n",
      "Skew:                           0.139   Prob(JB):                        0.111\n",
      "Kurtosis:                       3.417   Cond. No.                         30.6\n",
      "==============================================================================\n",
      "\n",
      "Notes:\n",
      "[1] Standard Errors assume that the covariance matrix of the errors is correctly specified.\n"
     ]
    }
   ],
   "source": [
    "print(res2.summary())"
   ]
  }
 ],
 "metadata": {
  "kernelspec": {
   "display_name": "Python 3 (ipykernel)",
   "language": "python",
   "name": "python3"
  },
  "language_info": {
   "codemirror_mode": {
    "name": "ipython",
    "version": 3
   },
   "file_extension": ".py",
   "mimetype": "text/x-python",
   "name": "python",
   "nbconvert_exporter": "python",
   "pygments_lexer": "ipython3",
   "version": "3.9.12"
  }
 },
 "nbformat": 4,
 "nbformat_minor": 5
}
